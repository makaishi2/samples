{
  "cells": [
    {
      "cell_type": "markdown",
      "source": [
        "### Google Colabで過去のバージョンが動くようにします  \n",
        "\n",
        "scikit-leanのバージョンを0.23.2にします。"
      ],
      "metadata": {
        "id": "nGCDu2U9GvKg"
      }
    },
    {
      "cell_type": "markdown",
      "source": [
        "#### 環境変数設定"
      ],
      "metadata": {
        "id": "w86ceiI6HrMv"
      }
    },
    {
      "cell_type": "code",
      "source": [
        "import os\n",
        "path_org = os.environ['PATH']\n",
        "path_38 = '/usr/local_py38'\n",
        "path_38bin = f'{path_38}/bin'\n",
        "os.environ['PATH'] = f'{path_38bin}:{path_org}'\n",
        "\n",
        "import sys\n",
        "sys.path.append(f'{path_38}/lib/python3.8/site-packages')"
      ],
      "metadata": {
        "id": "kd9CKqXUGsqF"
      },
      "execution_count": 2,
      "outputs": []
    },
    {
      "cell_type": "markdown",
      "source": [
        "#### conda導入"
      ],
      "metadata": {
        "id": "UAkeB8pQlvwS"
      }
    },
    {
      "cell_type": "code",
      "source": [
        "!wget -O mini.sh https://repo.anaconda.com/miniconda/Miniconda3-py38_4.8.2-Linux-x86_64.sh | tail -n 1\n",
        "!chmod +x mini.sh\n",
        "!bash ./mini.sh -b -f -p $path_38 | tail -n 1"
      ],
      "metadata": {
        "colab": {
          "base_uri": "https://localhost:8080/"
        },
        "id": "Kvx0Co2EGs0x",
        "outputId": "f5d9d6bb-be7e-4709-932f-7a35ce28012e"
      },
      "execution_count": 2,
      "outputs": [
        {
          "output_type": "stream",
          "name": "stdout",
          "text": [
            "--2023-11-05 01:03:53--  https://repo.anaconda.com/miniconda/Miniconda3-py38_4.8.2-Linux-x86_64.sh\n",
            "Resolving repo.anaconda.com (repo.anaconda.com)... 104.16.131.3, 104.16.130.3, 2606:4700::6810:8203, ...\n",
            "Connecting to repo.anaconda.com (repo.anaconda.com)|104.16.131.3|:443... connected.\n",
            "HTTP request sent, awaiting response... 200 OK\n",
            "Length: 89817099 (86M) [application/x-sh]\n",
            "Saving to: ‘mini.sh’\n",
            "\n",
            "mini.sh             100%[===================>]  85.66M   134MB/s    in 0.6s    \n",
            "\n",
            "2023-11-05 01:03:54 (134 MB/s) - ‘mini.sh’ saved [89817099/89817099]\n",
            "\n",
            "    in Miniconda3: /usr/local_py38\n"
          ]
        }
      ]
    },
    {
      "cell_type": "code",
      "source": [
        "# 結果確認\n",
        "!which conda\n",
        "!which pip"
      ],
      "metadata": {
        "colab": {
          "base_uri": "https://localhost:8080/"
        },
        "id": "Xw9wBB1EGs5c",
        "outputId": "ea457f00-84b5-4905-c846-4d30542848ad"
      },
      "execution_count": 3,
      "outputs": [
        {
          "output_type": "stream",
          "name": "stdout",
          "text": [
            "/usr/local_py38/bin/conda\n",
            "/usr/local_py38/bin/pip\n"
          ]
        }
      ]
    },
    {
      "cell_type": "markdown",
      "source": [
        "#### ライブラリ追加導入"
      ],
      "metadata": {
        "id": "5PB2WgH1mD4e"
      }
    },
    {
      "cell_type": "code",
      "source": [
        "!conda install -q -y conda python=3.8 --prefix $path_38 | tail -n 1\n",
        "!conda install -q -y jupyter --prefix $path_38 | tail -n 1\n",
        "!conda install -q -y google-colab -c conda-forge --prefix $path_38 | tail -n 1"
      ],
      "metadata": {
        "colab": {
          "base_uri": "https://localhost:8080/"
        },
        "id": "UHZHiQTjGs9r",
        "outputId": "21cff53e-a5df-488e-b0e9-853acef102e2"
      },
      "execution_count": 4,
      "outputs": [
        {
          "output_type": "stream",
          "name": "stdout",
          "text": [
            "Executing transaction: ...working... done\n",
            "Executing transaction: ...working... done\n",
            "Executing transaction: ...working... done\n"
          ]
        }
      ]
    },
    {
      "cell_type": "markdown",
      "source": [
        "#### カーネル追加"
      ],
      "metadata": {
        "id": "ZsUvv6j7njCI"
      }
    },
    {
      "cell_type": "code",
      "source": [
        "!python -m ipykernel install --name \"py38\" --user\n",
        "# 結果確認\n",
        "!jupyter-kernelspec list"
      ],
      "metadata": {
        "colab": {
          "base_uri": "https://localhost:8080/"
        },
        "id": "fxKL4r-RGtBz",
        "outputId": "c38cf7d9-30ff-4ff6-8074-cac221cda26f"
      },
      "execution_count": 4,
      "outputs": [
        {
          "output_type": "stream",
          "name": "stdout",
          "text": [
            "Installed kernelspec py38 in /root/.local/share/jupyter/kernels/py38\n",
            "Available kernels:\n",
            "  py38       /root/.local/share/jupyter/kernels/py38\n",
            "  python3    /usr/local_py38/share/jupyter/kernels/python3\n",
            "  ir         /usr/local/share/jupyter/kernels/ir\n"
          ]
        }
      ]
    },
    {
      "cell_type": "markdown",
      "source": [
        "#### カーネル切替え"
      ],
      "metadata": {
        "id": "RX4-G98Gny6y"
      }
    },
    {
      "cell_type": "code",
      "source": [
        " # UI経由で実施\n",
        " # メニューから「ランタイム」「ランタイムのタイプを変更」\n",
        " # ランタイムのタイプ: 「Python 3」→「py38」 で「保存」"
      ],
      "metadata": {
        "id": "_QpsP3ZBGtFs"
      },
      "execution_count": null,
      "outputs": []
    },
    {
      "cell_type": "code",
      "source": [
        "# 新カーネルの動作テスト\n",
        "1+1"
      ],
      "metadata": {
        "colab": {
          "base_uri": "https://localhost:8080/"
        },
        "id": "7-f9XeKwGtJJ",
        "outputId": "d958c1d7-558b-48a0-e7e0-92fdb6cbc145"
      },
      "execution_count": 1,
      "outputs": [
        {
          "output_type": "execute_result",
          "data": {
            "text/plain": [
              "2"
            ]
          },
          "metadata": {},
          "execution_count": 1
        }
      ]
    },
    {
      "cell_type": "markdown",
      "source": [
        " #### 環境変数再設定"
      ],
      "metadata": {
        "id": "rYU0Xx1EoGjR"
      }
    },
    {
      "cell_type": "code",
      "source": [
        "# sys.pathの設定を確認\n",
        "# 次の設定は不要\n",
        "# sys.path.append(f'{path_38}/lib/python3.8/site-packages')\n",
        "\n",
        "import sys\n",
        "print(f'Python Version: {sys.version}')\n",
        "for path in sys.path:\n",
        "    print(path)"
      ],
      "metadata": {
        "colab": {
          "base_uri": "https://localhost:8080/"
        },
        "id": "VP6hCa7SGtQ4",
        "outputId": "a9169d91-b41f-4214-fe40-e0329c6c313b"
      },
      "execution_count": 2,
      "outputs": [
        {
          "output_type": "stream",
          "name": "stdout",
          "text": [
            "Python Version: 3.8.18 (default, Sep 11 2023, 13:20:55) \n",
            "[GCC 11.2.0]\n",
            "/content\n",
            "/env/python\n",
            "/usr/local_py38/lib/python38.zip\n",
            "/usr/local_py38/lib/python3.8\n",
            "/usr/local_py38/lib/python3.8/lib-dynload\n",
            "\n",
            "/usr/local_py38/lib/python3.8/site-packages\n"
          ]
        }
      ]
    },
    {
      "cell_type": "code",
      "source": [
        "import os\n",
        "path_org = os.environ['PATH']\n",
        "path_38 = '/usr/local_py38'\n",
        "path_38bin = f'{path_38}/bin'\n",
        "os.environ['PATH'] = f'{path_38bin}:{path_org}'\n",
        "# 設定確認\n",
        "print(os.environ['PATH'])"
      ],
      "metadata": {
        "colab": {
          "base_uri": "https://localhost:8080/"
        },
        "id": "kw9edl2SGtM_",
        "outputId": "8d3917b3-1a68-43ec-ab9d-7b649a7c5804"
      },
      "execution_count": 3,
      "outputs": [
        {
          "output_type": "stream",
          "name": "stdout",
          "text": [
            "/usr/local_py38/bin:/opt/bin:/usr/local/nvidia/bin:/usr/local/cuda/bin:/usr/local/sbin:/usr/local/bin:/usr/sbin:/usr/bin:/sbin:/bin:/tools/node/bin:/tools/google-cloud-sdk/bin\n"
          ]
        }
      ]
    },
    {
      "cell_type": "markdown",
      "source": [
        "#### ライブラリ追加導入#2"
      ],
      "metadata": {
        "id": "sX2pO2QxpWq2"
      }
    },
    {
      "cell_type": "code",
      "source": [
        "!conda install -q -y scikit-learn==0.23.2 --prefix $path_38 | tail -n 1\n",
        "!conda install -q -y matplotlib --prefix $path_38 | tail -n 1"
      ],
      "metadata": {
        "colab": {
          "base_uri": "https://localhost:8080/"
        },
        "id": "IlTrOEf-GtUi",
        "outputId": "a548fac2-e5cf-442b-adbb-a49bbdb35a64"
      },
      "execution_count": 4,
      "outputs": [
        {
          "output_type": "stream",
          "name": "stdout",
          "text": [
            "Executing transaction: ...working... done\n",
            "Executing transaction: ...working... done\n"
          ]
        }
      ]
    },
    {
      "cell_type": "code",
      "source": [
        "!pip install japanize-matplotlib | tail -n 1"
      ],
      "metadata": {
        "id": "4ir1CqcMas3L"
      },
      "execution_count": null,
      "outputs": []
    },
    {
      "cell_type": "markdown",
      "source": [
        "#### バージョン確認"
      ],
      "metadata": {
        "id": "lcg-I4I8pnya"
      }
    },
    {
      "cell_type": "code",
      "source": [
        "import sklearn\n",
        "print(sklearn.__version__)\n",
        "from sklearn.cluster import KMeans"
      ],
      "metadata": {
        "colab": {
          "base_uri": "https://localhost:8080/"
        },
        "id": "wWOm0oWZGtZu",
        "outputId": "e76204d1-8567-4b34-c961-1214edda3146"
      },
      "execution_count": 5,
      "outputs": [
        {
          "output_type": "stream",
          "name": "stdout",
          "text": [
            "0.23.2\n"
          ]
        }
      ]
    },
    {
      "cell_type": "code",
      "source": [
        "import sys\n",
        "!pip install watermark | tail -n 1\n",
        "%load_ext watermark\n",
        "%watermark --iversions"
      ],
      "metadata": {
        "colab": {
          "base_uri": "https://localhost:8080/"
        },
        "id": "R5UJVr8By0kS",
        "outputId": "a6a89620-fdb6-42ee-e495-a1b0adbf1d31"
      },
      "execution_count": 27,
      "outputs": [
        {
          "output_type": "stream",
          "name": "stdout",
          "text": [
            "Requirement already satisfied: six in /usr/local_py38/lib/python3.8/site-packages (from asttokens->stack-data->ipython>=6.0->watermark) (1.14.0)\n",
            "The watermark extension is already loaded. To reload it, use:\n",
            "  %reload_ext watermark\n",
            "sys                : 3.8.18 (default, Sep 11 2023, 13:20:55) \n",
            "[GCC 11.2.0]\n",
            "numpy              : 1.22.3\n",
            "matplotlib         : 3.7.2\n",
            "japanize_matplotlib: 1.1.3\n",
            "sklearn            : 0.23.1\n",
            "pandas             : 1.3.5\n",
            "\n"
          ]
        }
      ]
    },
    {
      "cell_type": "code",
      "source": [],
      "metadata": {
        "id": "yoKZryI3y6Aj"
      },
      "execution_count": null,
      "outputs": []
    }
  ],
  "metadata": {
    "colab": {
      "provenance": [],
      "toc_visible": true
    },
    "kernelspec": {
      "display_name": "py38",
      "name": "py38"
    }
  },
  "nbformat": 4,
  "nbformat_minor": 0
}