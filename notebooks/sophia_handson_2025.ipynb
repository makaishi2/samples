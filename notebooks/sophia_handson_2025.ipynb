{
 "cells": [
  {
   "cell_type": "markdown",
   "metadata": {
    "id": "IKwViIZ_M-4Q"
   },
   "source": [
    "## 上智大学向け実習用notebook\n",
    "2024-12-01版"
   ]
  },
  {
   "cell_type": "markdown",
   "metadata": {
    "id": "0mg-qgwsn2qy"
   },
   "source": [
    "<a href=\"https://colab.research.google.com/github/makaishi2/samples/blob/main/notebooks/sophia_handson_2025.ipynb\" target=\"_parent\"><img src=\"https://colab.research.google.com/assets/colab-badge.svg\" alt=\"Open In Colab\"/></a>"
   ]
  },
  {
   "cell_type": "markdown",
   "metadata": {
    "id": "cATkmxSndczm"
   },
   "source": [
    "### 事前準備"
   ]
  },
  {
   "cell_type": "markdown",
   "metadata": {
    "id": "y95z9ymJdjP1"
   },
   "source": [
    "#### ライブラリの導入・インポート"
   ]
  },
  {
   "cell_type": "code",
   "execution_count": null,
   "metadata": {
    "id": "G7DMt9qyM4kd"
   },
   "outputs": [],
   "source": [
    "%matplotlib inline\n",
    "# 日本語化ライブラリ導入\n",
    "!pip install japanize-matplotlib | tail -n 1"
   ]
  },
  {
   "cell_type": "code",
   "execution_count": null,
   "metadata": {
    "id": "ZB6WRPCyNKiO"
   },
   "outputs": [],
   "source": [
    "# ライブラリのimport\n",
    "\n",
    "# NumPy用ライブラリ\n",
    "import numpy as np\n",
    "\n",
    "# Matplotlib中のpyplotライブラリのインポート\n",
    "import matplotlib.pyplot as plt\n",
    "\n",
    "# matplotlib日本語化対応ライブラリのインポート\n",
    "import japanize_matplotlib\n",
    "\n",
    "# pandas用ライブラリ\n",
    "import pandas as pd\n",
    "\n",
    "# データフレーム表示用関数\n",
    "from IPython.display import display\n",
    "\n",
    "# seaborn\n",
    "import seaborn as sns\n",
    "\n",
    "# 表示オプション調整\n",
    "\n",
    "# NumPy表示形式の設定\n",
    "np.set_printoptions(precision=3, floatmode='fixed')\n",
    "\n",
    "# グラフのデフォルトフォント指定\n",
    "plt.rcParams[\"font.size\"] = 14\n",
    "\n",
    "# サイズ設定\n",
    "plt.rcParams['figure.figsize'] = (6, 6)\n",
    "\n",
    "# 方眼表示ON\n",
    "plt.rcParams['axes.grid'] = True\n",
    "\n",
    "# データフレームでの表示精度\n",
    "pd.options.display.float_format = '{:.3f}'.format\n",
    "\n",
    "# データフレームですべての項目を表示\n",
    "pd.set_option(\"display.max_columns\",None)"
   ]
  },
  {
   "cell_type": "markdown",
   "metadata": {
    "id": "_q7VYQjYNTII"
   },
   "source": [
    "#### データ読み込み"
   ]
  },
  {
   "cell_type": "code",
   "execution_count": null,
   "metadata": {
    "id": "3Lp5oxNLNRh6"
   },
   "outputs": [],
   "source": [
    "# 講演者のgithubサイトからcsvファイルの読み込み\n",
    "fn = 'https://github.com/makaishi2/samples/raw/main/data/bridge.csv'\n",
    "df = pd.read_csv(fn)"
   ]
  },
  {
   "cell_type": "code",
   "execution_count": null,
   "metadata": {
    "id": "F8ZCVzPtQKdY"
   },
   "outputs": [],
   "source": [
    "# 読み込み結果の確認\n",
    "display(df.head())"
   ]
  },
  {
   "cell_type": "markdown",
   "metadata": {
    "id": "DTrkv3vXSgzB"
   },
   "source": [
    "### 実習\n",
    "ここから実習がはじまりまます"
   ]
  },
  {
   "cell_type": "markdown",
   "metadata": {
    "id": "eFL8IYWPSuwd"
   },
   "source": [
    "#### データの提示\n",
    "以下のテキストをCHAT-GPTにコピペして、質問してください\n",
    "\n",
    "```\n",
    "次のCSVデータの分析をします。\n",
    "データはデータフレーム変数dfに入っています。\n",
    "これは前提の説明なので、まだ返事は不要です。\n",
    "\n",
    "ID,RIVER,LOCATION,ERECTED,PURPOSE,LENGTH,LANES,CLEAR-G,T-OR-D,MATERIAL,SPAN,REL-L,TYPE\n",
    "E1,M,3.0,1818,HIGHWAY,,2.0,N,THROUGH,WOOD,SHORT,S,WOOD\n",
    "E2,A,25.0,1819,HIGHWAY,1037.0,2.0,N,THROUGH,WOOD,SHORT,S,WOOD\n",
    "E3,A,39.0,1829,AQUEDUCT,,1.0,N,THROUGH,WOOD,,S,WOOD\n",
    "E5,A,29.0,1837,HIGHWAY,1000.0,2.0,N,THROUGH,WOOD,SHORT,S,WOOD\n",
    "E6,M,23.0,1838,HIGHWAY,,2.0,N,THROUGH,WOOD,,S,WOOD\n",
    "E7,A,27.0,1840,HIGHWAY,990.0,2.0,N,THROUGH,WOOD,MEDIUM,S,WOOD\n",
    "E8,A,28.0,1844,AQUEDUCT,1000.0,1.0,N,THROUGH,IRON,SHORT,S,SUSPEN\n",
    "E9,M,3.0,1846,HIGHWAY,1500.0,2.0,N,THROUGH,IRON,SHORT,S,SUSPEN\n",
    "E10,A,39.0,1848,AQUEDUCT,,1.0,N,DECK,WOOD,,S,WOOD\n",
    "(以下略)\n",
    "```"
   ]
  },
  {
   "cell_type": "markdown",
   "metadata": {
    "id": "seEwBN_sTIyl"
   },
   "source": [
    "#### データの解説情報提供1\n",
    "以下のテキストをCHAT-GPTにコピペして、質問してください\n",
    "\n",
    "```\n",
    "このデータは「ピッツバーグ・ブリッジ・データセット」と呼ばれる、アメリカピッツバー市の橋の情報をまとめたものです。\n",
    "以下の解説(Kaggleの解説から取ってきた情報)を含めて今後の分析で活用して下さい。\n",
    "これは前提の説明なので、まだ返事は不要です。\n",
    "\n",
    "id: Bridge's Identifier.\n",
    "\n",
    "river: River of the bridge.\n",
    "{A : Allegheny, M : Monongahela, O : Ohio}\n",
    "\n",
    "location: Bridge's Location. / 1 - 52\n",
    "\n",
    "erected: Bridge's construction year. / 1818 - 1986\n",
    "{CRAFTS: 1818 - 1866, EMERGING: 1870 - 1889,\n",
    "MATURE: 1890 - 1939, MODERN: 1945 - 1986}\n",
    "\n",
    "purpose: Bridge's purpose.\n",
    "{WALK, AQUEDUCT, RR (Railroad), HIGHWAY}\n",
    "\n",
    "length: Bridge's length / 804-4558\n",
    "{SHORT : 804 - 990, MEDIUM : 1000 - 1850, LONG : 2000 - 4558}\n",
    "\n",
    "Lanes: Bridge's lanes / 1, 2, 4 and 6\n",
    "\n",
    "clear-g: Vertical clearance requirement was enforced in the design.\n",
    "{N: Not Enforced, G: Enforced}\n",
    "```"
   ]
  },
  {
   "cell_type": "markdown",
   "metadata": {
    "id": "wVcxCK0U5YFm"
   },
   "source": [
    "#### データの解説情報提供2\n",
    "\n",
    "以下のテキストをCHAT-GPTにコピペして、質問してください\n",
    "\n",
    "```\n",
    "以下もKaggleの解説の続きです。これは前提の説明なので、まだ返事は不要です。\n",
    "\n",
    "B) Design properties\n",
    "t-or-d: The roadway location on the bridge.\n",
    "{THROUGH, DECK}\n",
    "\n",
    "material: Bridge's predominant material.\n",
    "{WOOD, IRON, STEEL}\n",
    "\n",
    "span: Bridge's span.\n",
    "{SHORT, MEDIUM, LONG}\n",
    "\n",
    "rel-l: Relative length of the span to the crossing length.\n",
    "{S: Short, S-F: Short-Full, F: Full}\n",
    "\n",
    "type: Bridge's type.\n",
    "{WOOD, SUSPEN (Suspension),\n",
    "SIMPLE-T (Simple Truss), ARCH,\n",
    "CANTILEV (Cantilever), CONT-T (Continuous Truss)}\n",
    "```"
   ]
  },
  {
   "cell_type": "markdown",
   "metadata": {
    "id": "FNpq-1mG7ZRx"
   },
   "source": [
    "#### 例題1 データ項目理解(概要)\n",
    "\n",
    "以下のテキストをCHAT-GPTにコピペして、質問してください\n",
    "\n",
    "```\n",
    "CSV データの全項目の意味を簡潔に教えて下さい。\n",
    "```"
   ]
  },
  {
   "cell_type": "markdown",
   "metadata": {
    "id": "0BHjku_F73lm"
   },
   "source": [
    "#### 例題2 データ項目理解(詳細)\n",
    "\n",
    "以下のテキストをCHAT-GPTにコピペして、質問してください\n",
    "\n",
    "```\n",
    "CLEAR-Gがなんであるか、詳しく教えて下さい。\n",
    "```\n",
    "\n"
   ]
  },
  {
   "cell_type": "markdown",
   "metadata": {
    "id": "iSQL-lsGceWs"
   },
   "source": [
    "#### 例題3 前処理(欠損値確認)\n",
    "\n",
    "各項目の欠損値を確認するコードをCHAT-GPTに実装させます<br>\n",
    "以下のテキストをCHAT-GPTにコピペして、質問してください\n",
    "\n",
    "```\n",
    "データフレームはdfに読み込み済みです。\n",
    "この前提で、項目ごとの欠損値を確認するコードを実装してください。\n",
    "```"
   ]
  },
  {
   "cell_type": "code",
   "execution_count": null,
   "metadata": {
    "id": "_e9tl7QDcubx"
   },
   "outputs": [],
   "source": [
    "# このセルにCHAT-GPTの生成結果を貼り付けます\n"
   ]
  },
  {
   "cell_type": "markdown",
   "metadata": {
    "id": "YbTjMt9rqnY3"
   },
   "source": [
    "#### 例題4 前処理(欠損値除去)\n",
    "上の結果からMATERIALに2つの欠損値があることがわかりました。<br>\n",
    "CHAT-GPTにこの欠損値を除去するコードを生成させます<br>\n",
    "以下のテキストをCHAT-GPTにコピペして、質問してください\n",
    "\n",
    "```\n",
    "データフレームは変数dfに読み込み済みです。\n",
    "この前提で「MATERIAL」の欠損値を除去してください。除去はdropna関数を用いて行ごと削除します。\n",
    "整形後の結果を改めてdfに代入し、結果の先頭5行をdispaly関数で表示してください。\n",
    "また、欠損値がなくなったことの確認もしてください。\n",
    "以上のことを行うためのPythonコードを実装して下さい。\n",
    "```"
   ]
  },
  {
   "cell_type": "code",
   "execution_count": null,
   "metadata": {
    "id": "NmMO0vu9QYZ_"
   },
   "outputs": [],
   "source": [
    "# このセルに　CHAT-GPTの生成結果を貼り付けます\n"
   ]
  },
  {
   "cell_type": "markdown",
   "metadata": {
    "id": "j0aQ0t9fu1IH"
   },
   "source": [
    "#### 例題5 可視化 (建設年の箱ひげ図)\n",
    "以下のテキストをCHAT-GPTにコピペして、質問してください\n",
    "\n",
    "```\n",
    "「ERECTED」で箱ひげ図を描画して下さい。\n",
    "ライブラリはseabornを利用し、図は「MATERIAL」別にしてください。\n",
    "以上のことを行うためのPythonコードを実装して下さい。\n",
    "```"
   ]
  },
  {
   "cell_type": "code",
   "execution_count": null,
   "metadata": {
    "id": "M34Z5ygHvUBC"
   },
   "outputs": [],
   "source": [
    "# このセルに　CHAT-GPTの生成結果を貼り付けます\n"
   ]
  },
  {
   "cell_type": "markdown",
   "metadata": {
    "id": "bFzPMrPzoB4_"
   },
   "source": [
    "#### 例題6 可視化(散布図の表示)\n",
    "以下のテキストをCHAT-GPTにコピペして、質問してください\n",
    "\n",
    "```\n",
    "「ERECTED」と「LENGTH」で散布図を描画して下さい。\n",
    "描画時に、「MATERIAL」でマーカーは色と形を変えます。\n",
    "マーカーの大きさは大きめにして下さい。\n",
    "以上のことを行うPythonコードを実装して下さい。\n",
    "```"
   ]
  },
  {
   "cell_type": "code",
   "execution_count": null,
   "metadata": {
    "id": "uQA8XkB8sNhD"
   },
   "outputs": [],
   "source": [
    "# このセルに　CHAT-GPTの生成結果を貼り付けます\n"
   ]
  },
  {
   "cell_type": "markdown",
   "metadata": {
    "id": "TjPXIFQYwHZt"
   },
   "source": [
    "#### 例題7 ディスカッション\n",
    "次の課題をCHAT-GPTと相談して考えてみてください<br>\n",
    "\n",
    "\n",
    "```\n",
    "あなたが、ピッツバーク市の橋の改修計画担当者であると想像してください。\n",
    "今までの分析結果を基に、今後、橋の改修計画をどのように進めるべきか、できるだけ具体的な手順を含めて検討してください。\n",
    "```"
   ]
  },
  {
   "cell_type": "markdown",
   "metadata": {
    "id": "VKWhqUfVacAv"
   },
   "source": [
    "```\n",
    "分析結果を元に、橋の修繕計画は木製の橋を重点的に実施することとしました。\n",
    "その場合の具体的な検討手順と特に注意すべき点について教えてください。\n",
    "```"
   ]
  },
  {
   "cell_type": "markdown",
   "metadata": {
    "id": "ZT83MG-cbzbN"
   },
   "source": [
    "```\n",
    "古い橋の場合、歴史的価値に関する考慮は必要ですか。\n",
    "必要な場合、その対策の具体的手順を教えて下さい。\n",
    "```"
   ]
  },
  {
   "cell_type": "code",
   "execution_count": null,
   "metadata": {
    "id": "nZgx3mvswTbZ"
   },
   "outputs": [],
   "source": []
  }
 ],
 "metadata": {
  "colab": {
   "provenance": [],
   "toc_visible": true
  },
  "kernelspec": {
   "display_name": "Python 3",
   "name": "python3"
  },
  "language_info": {
   "name": "python"
  }
 },
 "nbformat": 4,
 "nbformat_minor": 0
}
