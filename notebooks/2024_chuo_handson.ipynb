{
  "cells": [
    {
      "cell_type": "markdown",
      "metadata": {
        "id": "3MJR8rosngZb"
      },
      "source": [
        "## 2024年中央大学向け実習\n",
        "2024-11-12"
      ]
    },
    {
      "cell_type": "markdown",
      "metadata": {
        "id": "XT8aMGMxn2bo"
      },
      "source": [
        "<a href=\"https://colab.research.google.com/github/makaishi2/samples/blob/main/notebooks/2024_chuo_handson.ipynb\" target=\"_parent\"><img src=\"https://colab.research.google.com/assets/colab-badge.svg\" alt=\"Open In Colab\"/></a>"
      ]
    },
    {
      "cell_type": "markdown",
      "metadata": {
        "id": "Hb6hOq-zn58s"
      },
      "source": [
        "### 事前準備"
      ]
    },
    {
      "cell_type": "markdown",
      "metadata": {
        "id": "X3_6BIQHn9WV"
      },
      "source": [
        "#### ライブラリの導入・インポート"
      ]
    },
    {
      "cell_type": "code",
      "execution_count": null,
      "metadata": {
        "id": "xyPuHAVFnxJY"
      },
      "outputs": [],
      "source": [
        "%matplotlib inline\n",
        "# 日本語化ライブラリ導入\n",
        "!pip install japanize-matplotlib | tail -n 1"
      ]
    },
    {
      "cell_type": "code",
      "execution_count": null,
      "metadata": {
        "id": "KsHs3XxnoD7i"
      },
      "outputs": [],
      "source": [
        "# ライブラリのimport\n",
        "\n",
        "# NumPy用ライブラリ\n",
        "import numpy as np\n",
        "\n",
        "# Matplotlib中のpyplotライブラリのインポート\n",
        "import matplotlib.pyplot as plt\n",
        "\n",
        "# matplotlib日本語化対応ライブラリのインポート\n",
        "import japanize_matplotlib\n",
        "\n",
        "# pandas用ライブラリ\n",
        "import pandas as pd\n",
        "\n",
        "# データフレーム表示用関数\n",
        "from IPython.display import display\n",
        "\n",
        "# seaborn\n",
        "import seaborn as sns\n",
        "\n",
        "# 表示オプション調整\n",
        "\n",
        "# NumPy表示形式の設定\n",
        "np.set_printoptions(precision=3, floatmode='fixed')\n",
        "\n",
        "# グラフのデフォルトフォント指定\n",
        "plt.rcParams[\"font.size\"] = 14\n",
        "\n",
        "# サイズ設定\n",
        "plt.rcParams['figure.figsize'] = (6, 6)\n",
        "\n",
        "# 方眼表示ON\n",
        "plt.rcParams['axes.grid'] = True\n",
        "\n",
        "# データフレームでの表示精度\n",
        "pd.options.display.float_format = '{:.3f}'.format\n",
        "\n",
        "# データフレームですべての項目を表示\n",
        "pd.set_option(\"display.max_columns\",None)"
      ]
    },
    {
      "cell_type": "markdown",
      "metadata": {
        "id": "QR8y2oYboQTC"
      },
      "source": [
        "### データの読み込み"
      ]
    },
    {
      "cell_type": "code",
      "execution_count": null,
      "metadata": {
        "id": "yqTMsmYkoHrB"
      },
      "outputs": [],
      "source": [
        "# CSVファイルの配置場所\n",
        "url = 'https://github.com/makaishi2/sample-data/raw/refs/heads/master/data/titanic.csv'\n",
        "\n",
        "# CSVファイルをデータフレーム変数dfに取り込む\n",
        "df = pd.read_csv(url)\n",
        "\n",
        "# 先頭5行の常時\n",
        "display(df.head())"
      ]
    },
    {
      "cell_type": "markdown",
      "metadata": {
        "id": "ksu43d0EpJgy"
      },
      "source": [
        "### 実習"
      ]
    },
    {
      "cell_type": "markdown",
      "metadata": {
        "id": "HDVbqc56pbfE"
      },
      "source": [
        "以下のテキストをchat-GPT(Python)にコピペしてください"
      ]
    },
    {
      "cell_type": "markdown",
      "metadata": {
        "id": "yBEzNID9picm"
      },
      "source": [
        "```\n",
        "次のCSVデータの分析をします。\n",
        "データはデータフレーム変数dfに入っています。\n",
        "これは前提の説明なので、まだ返事は不要です。\n",
        "\n",
        "survived,pclass,sex,age,sibsp,parch,fare,embarked,class,who,adult_male,deck,embark_town,alive,alone\n",
        "0,3,male,22.0,1,0,7.25,S,Third,man,True,,Southampton,no,False\n",
        "1,1,female,38.0,1,0,71.2833,C,First,woman,False,C,Cherbourg,yes,False\n",
        "1,3,female,26.0,0,0,7.925,S,Third,woman,False,,Southampton,yes,True\n",
        "1,1,female,35.0,1,0,53.1,S,First,woman,False,C,Southampton,yes,False\n",
        "0,3,male,35.0,0,0,8.05,S,Third,man,True,,Southampton,no,True\n",
        "```"
      ]
    },
    {
      "cell_type": "markdown",
      "metadata": {
        "id": "daT-ZAm8yfpE"
      },
      "source": [
        "### 男女別の生存率のグラフ表示"
      ]
    },
    {
      "cell_type": "markdown",
      "metadata": {
        "id": "OjmBnR5Wx23L"
      },
      "source": [
        "以下のテキストをChat-GPT(Python)に貼り付けます\n",
        "\n",
        "```\n",
        "男女の生存率をグラフ表示するコードを生成してください\n",
        "```"
      ]
    },
    {
      "cell_type": "markdown",
      "metadata": {
        "id": "t5udhnWlwsAw"
      },
      "source": [
        "Chat GPT(Python)で生成したコードを以下のセルに貼り付けて実行します"
      ]
    },
    {
      "cell_type": "code",
      "execution_count": null,
      "metadata": {
        "id": "vJM7P_Hywp6Y"
      },
      "outputs": [],
      "source": [
        "# Char GPTで生成したコードを貼り付けます\n",
        "\n"
      ]
    },
    {
      "cell_type": "markdown",
      "metadata": {
        "id": "CVoPwJ6IxArr"
      },
      "source": [
        "### 課題問題\n",
        "ChatGPTのコード生成機能を用いて以下のグラフを描画しなさい\n",
        "\n",
        "1. 客室別の生存率を比較したグラフ\n",
        "2. 乗船港別の生存率を比較したグラフ"
      ]
    },
    {
      "cell_type": "code",
      "execution_count": null,
      "metadata": {
        "id": "KiQZ3VwporBA"
      },
      "outputs": [],
      "source": [
        "# 客室別生存率を比較するグラフを表示するコードをはりつけます\n"
      ]
    },
    {
      "cell_type": "code",
      "execution_count": null,
      "metadata": {
        "id": "U_ITqxm_r9dr"
      },
      "outputs": [],
      "source": [
        "# 乗船港別生存率を表示するコードをはりつけます\n"
      ]
    },
    {
      "cell_type": "code",
      "execution_count": null,
      "metadata": {
        "id": "2xST8-dNsgDL"
      },
      "outputs": [],
      "source": []
    }
  ],
  "metadata": {
    "colab": {
      "provenance": [],
      "toc_visible": true
    },
    "kernelspec": {
      "display_name": "Python 3",
      "name": "python3"
    },
    "language_info": {
      "name": "python"
    }
  },
  "nbformat": 4,
  "nbformat_minor": 0
}