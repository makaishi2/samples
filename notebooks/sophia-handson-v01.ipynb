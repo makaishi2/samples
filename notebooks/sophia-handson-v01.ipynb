{
  "cells": [
    {
      "cell_type": "markdown",
      "metadata": {
        "id": "IKwViIZ_M-4Q"
      },
      "source": [
        "## 上智大学向け実習\n",
        "2023-12-16版"
      ]
    },
    {
      "cell_type": "markdown",
      "metadata": {},
      "source": [
        "<a href=\"https://colab.research.google.com/github/makaishi2/samples/blob/main/notebooks/sophia-handson-v01.ipynb\" target=\"_parent\"><img src=\"https://colab.research.google.com/assets/colab-badge.svg\" alt=\"Open In Colab\"/></a>"
      ]
    },
    {
      "cell_type": "markdown",
      "metadata": {
        "id": "cATkmxSndczm"
      },
      "source": [
        "### 事前準備"
      ]
    },
    {
      "cell_type": "markdown",
      "metadata": {
        "id": "y95z9ymJdjP1"
      },
      "source": [
        "#### ライブラリの導入・インポート"
      ]
    },
    {
      "cell_type": "code",
      "execution_count": null,
      "metadata": {
        "colab": {
          "base_uri": "https://localhost:8080/"
        },
        "id": "G7DMt9qyM4kd",
        "outputId": "f75ee9c9-f843-4f64-9b99-cc000e1c6efd"
      },
      "outputs": [
        {
          "name": "stdout",
          "output_type": "stream",
          "text": [
            "Successfully installed japanize-matplotlib-1.1.3\n"
          ]
        }
      ],
      "source": [
        "%matplotlib inline\n",
        "# 日本語化ライブラリ導入\n",
        "!pip install japanize-matplotlib | tail -n 1"
      ]
    },
    {
      "cell_type": "code",
      "execution_count": null,
      "metadata": {
        "id": "ZB6WRPCyNKiO"
      },
      "outputs": [],
      "source": [
        "# ライブラリのimport\n",
        "\n",
        "# NumPy用ライブラリ\n",
        "import numpy as np\n",
        "\n",
        "# Matplotlib中のpyplotライブラリのインポート\n",
        "import matplotlib.pyplot as plt\n",
        "\n",
        "# matplotlib日本語化対応ライブラリのインポート\n",
        "import japanize_matplotlib\n",
        "\n",
        "# pandas用ライブラリ\n",
        "import pandas as pd\n",
        "\n",
        "# データフレーム表示用関数\n",
        "from IPython.display import display\n",
        "\n",
        "# seaborn\n",
        "import seaborn as sns\n",
        "\n",
        "# 表示オプション調整\n",
        "\n",
        "# NumPy表示形式の設定\n",
        "np.set_printoptions(precision=3, floatmode='fixed')\n",
        "\n",
        "# グラフのデフォルトフォント指定\n",
        "plt.rcParams[\"font.size\"] = 14\n",
        "\n",
        "# サイズ設定\n",
        "plt.rcParams['figure.figsize'] = (6, 6)\n",
        "\n",
        "# 方眼表示ON\n",
        "plt.rcParams['axes.grid'] = True\n",
        "\n",
        "# データフレームでの表示精度\n",
        "pd.options.display.float_format = '{:.3f}'.format\n",
        "\n",
        "# データフレームですべての項目を表示\n",
        "pd.set_option(\"display.max_columns\",None)"
      ]
    },
    {
      "cell_type": "markdown",
      "metadata": {
        "id": "_q7VYQjYNTII"
      },
      "source": [
        "#### データ読み込み"
      ]
    },
    {
      "cell_type": "code",
      "execution_count": null,
      "metadata": {
        "id": "3Lp5oxNLNRh6"
      },
      "outputs": [],
      "source": [
        "# 講演者のgithubサイトからcsvファイルの読み込み\n",
        "fn = 'https://github.com/makaishi2/samples/raw/main/data/bridge.csv'\n",
        "df = pd.read_csv(fn)"
      ]
    },
    {
      "cell_type": "code",
      "execution_count": null,
      "metadata": {
        "colab": {
          "base_uri": "https://localhost:8080/",
          "height": 206
        },
        "id": "F8ZCVzPtQKdY",
        "outputId": "60835c11-e17f-46bc-d9a2-71579fc2ad8c"
      },
      "outputs": [
        {
          "data": {
            "text/html": [
              "\n",
              "  <div id=\"df-7c29a778-d835-42ec-aac3-d7da1fcc52fe\" class=\"colab-df-container\">\n",
              "    <div>\n",
              "<style scoped>\n",
              "    .dataframe tbody tr th:only-of-type {\n",
              "        vertical-align: middle;\n",
              "    }\n",
              "\n",
              "    .dataframe tbody tr th {\n",
              "        vertical-align: top;\n",
              "    }\n",
              "\n",
              "    .dataframe thead th {\n",
              "        text-align: right;\n",
              "    }\n",
              "</style>\n",
              "<table border=\"1\" class=\"dataframe\">\n",
              "  <thead>\n",
              "    <tr style=\"text-align: right;\">\n",
              "      <th></th>\n",
              "      <th>ID</th>\n",
              "      <th>RIVER</th>\n",
              "      <th>LOCATION</th>\n",
              "      <th>ERECTED</th>\n",
              "      <th>PURPOSE</th>\n",
              "      <th>LENGTH</th>\n",
              "      <th>LANES</th>\n",
              "      <th>CLEAR-G</th>\n",
              "      <th>T-OR-D</th>\n",
              "      <th>MATERIAL</th>\n",
              "      <th>SPAN</th>\n",
              "      <th>REL-L</th>\n",
              "      <th>TYPE</th>\n",
              "    </tr>\n",
              "  </thead>\n",
              "  <tbody>\n",
              "    <tr>\n",
              "      <th>0</th>\n",
              "      <td>E1</td>\n",
              "      <td>M</td>\n",
              "      <td>3.000</td>\n",
              "      <td>1818</td>\n",
              "      <td>HIGHWAY</td>\n",
              "      <td>NaN</td>\n",
              "      <td>2.000</td>\n",
              "      <td>N</td>\n",
              "      <td>THROUGH</td>\n",
              "      <td>WOOD</td>\n",
              "      <td>SHORT</td>\n",
              "      <td>S</td>\n",
              "      <td>WOOD</td>\n",
              "    </tr>\n",
              "    <tr>\n",
              "      <th>1</th>\n",
              "      <td>E2</td>\n",
              "      <td>A</td>\n",
              "      <td>25.000</td>\n",
              "      <td>1819</td>\n",
              "      <td>HIGHWAY</td>\n",
              "      <td>1037.000</td>\n",
              "      <td>2.000</td>\n",
              "      <td>N</td>\n",
              "      <td>THROUGH</td>\n",
              "      <td>WOOD</td>\n",
              "      <td>SHORT</td>\n",
              "      <td>S</td>\n",
              "      <td>WOOD</td>\n",
              "    </tr>\n",
              "    <tr>\n",
              "      <th>2</th>\n",
              "      <td>E3</td>\n",
              "      <td>A</td>\n",
              "      <td>39.000</td>\n",
              "      <td>1829</td>\n",
              "      <td>AQUEDUCT</td>\n",
              "      <td>NaN</td>\n",
              "      <td>1.000</td>\n",
              "      <td>N</td>\n",
              "      <td>THROUGH</td>\n",
              "      <td>WOOD</td>\n",
              "      <td>NaN</td>\n",
              "      <td>S</td>\n",
              "      <td>WOOD</td>\n",
              "    </tr>\n",
              "    <tr>\n",
              "      <th>3</th>\n",
              "      <td>E5</td>\n",
              "      <td>A</td>\n",
              "      <td>29.000</td>\n",
              "      <td>1837</td>\n",
              "      <td>HIGHWAY</td>\n",
              "      <td>1000.000</td>\n",
              "      <td>2.000</td>\n",
              "      <td>N</td>\n",
              "      <td>THROUGH</td>\n",
              "      <td>WOOD</td>\n",
              "      <td>SHORT</td>\n",
              "      <td>S</td>\n",
              "      <td>WOOD</td>\n",
              "    </tr>\n",
              "    <tr>\n",
              "      <th>4</th>\n",
              "      <td>E6</td>\n",
              "      <td>M</td>\n",
              "      <td>23.000</td>\n",
              "      <td>1838</td>\n",
              "      <td>HIGHWAY</td>\n",
              "      <td>NaN</td>\n",
              "      <td>2.000</td>\n",
              "      <td>N</td>\n",
              "      <td>THROUGH</td>\n",
              "      <td>WOOD</td>\n",
              "      <td>NaN</td>\n",
              "      <td>S</td>\n",
              "      <td>WOOD</td>\n",
              "    </tr>\n",
              "  </tbody>\n",
              "</table>\n",
              "</div>\n",
              "    <div class=\"colab-df-buttons\">\n",
              "\n",
              "  <div class=\"colab-df-container\">\n",
              "    <button class=\"colab-df-convert\" onclick=\"convertToInteractive('df-7c29a778-d835-42ec-aac3-d7da1fcc52fe')\"\n",
              "            title=\"Convert this dataframe to an interactive table.\"\n",
              "            style=\"display:none;\">\n",
              "\n",
              "  <svg xmlns=\"http://www.w3.org/2000/svg\" height=\"24px\" viewBox=\"0 -960 960 960\">\n",
              "    <path d=\"M120-120v-720h720v720H120Zm60-500h600v-160H180v160Zm220 220h160v-160H400v160Zm0 220h160v-160H400v160ZM180-400h160v-160H180v160Zm440 0h160v-160H620v160ZM180-180h160v-160H180v160Zm440 0h160v-160H620v160Z\"/>\n",
              "  </svg>\n",
              "    </button>\n",
              "\n",
              "  <style>\n",
              "    .colab-df-container {\n",
              "      display:flex;\n",
              "      gap: 12px;\n",
              "    }\n",
              "\n",
              "    .colab-df-convert {\n",
              "      background-color: #E8F0FE;\n",
              "      border: none;\n",
              "      border-radius: 50%;\n",
              "      cursor: pointer;\n",
              "      display: none;\n",
              "      fill: #1967D2;\n",
              "      height: 32px;\n",
              "      padding: 0 0 0 0;\n",
              "      width: 32px;\n",
              "    }\n",
              "\n",
              "    .colab-df-convert:hover {\n",
              "      background-color: #E2EBFA;\n",
              "      box-shadow: 0px 1px 2px rgba(60, 64, 67, 0.3), 0px 1px 3px 1px rgba(60, 64, 67, 0.15);\n",
              "      fill: #174EA6;\n",
              "    }\n",
              "\n",
              "    .colab-df-buttons div {\n",
              "      margin-bottom: 4px;\n",
              "    }\n",
              "\n",
              "    [theme=dark] .colab-df-convert {\n",
              "      background-color: #3B4455;\n",
              "      fill: #D2E3FC;\n",
              "    }\n",
              "\n",
              "    [theme=dark] .colab-df-convert:hover {\n",
              "      background-color: #434B5C;\n",
              "      box-shadow: 0px 1px 3px 1px rgba(0, 0, 0, 0.15);\n",
              "      filter: drop-shadow(0px 1px 2px rgba(0, 0, 0, 0.3));\n",
              "      fill: #FFFFFF;\n",
              "    }\n",
              "  </style>\n",
              "\n",
              "    <script>\n",
              "      const buttonEl =\n",
              "        document.querySelector('#df-7c29a778-d835-42ec-aac3-d7da1fcc52fe button.colab-df-convert');\n",
              "      buttonEl.style.display =\n",
              "        google.colab.kernel.accessAllowed ? 'block' : 'none';\n",
              "\n",
              "      async function convertToInteractive(key) {\n",
              "        const element = document.querySelector('#df-7c29a778-d835-42ec-aac3-d7da1fcc52fe');\n",
              "        const dataTable =\n",
              "          await google.colab.kernel.invokeFunction('convertToInteractive',\n",
              "                                                    [key], {});\n",
              "        if (!dataTable) return;\n",
              "\n",
              "        const docLinkHtml = 'Like what you see? Visit the ' +\n",
              "          '<a target=\"_blank\" href=https://colab.research.google.com/notebooks/data_table.ipynb>data table notebook</a>'\n",
              "          + ' to learn more about interactive tables.';\n",
              "        element.innerHTML = '';\n",
              "        dataTable['output_type'] = 'display_data';\n",
              "        await google.colab.output.renderOutput(dataTable, element);\n",
              "        const docLink = document.createElement('div');\n",
              "        docLink.innerHTML = docLinkHtml;\n",
              "        element.appendChild(docLink);\n",
              "      }\n",
              "    </script>\n",
              "  </div>\n",
              "\n",
              "\n",
              "<div id=\"df-9d3cfdd4-584a-4519-8190-1c30c8c2a97c\">\n",
              "  <button class=\"colab-df-quickchart\" onclick=\"quickchart('df-9d3cfdd4-584a-4519-8190-1c30c8c2a97c')\"\n",
              "            title=\"Suggest charts\"\n",
              "            style=\"display:none;\">\n",
              "\n",
              "<svg xmlns=\"http://www.w3.org/2000/svg\" height=\"24px\"viewBox=\"0 0 24 24\"\n",
              "     width=\"24px\">\n",
              "    <g>\n",
              "        <path d=\"M19 3H5c-1.1 0-2 .9-2 2v14c0 1.1.9 2 2 2h14c1.1 0 2-.9 2-2V5c0-1.1-.9-2-2-2zM9 17H7v-7h2v7zm4 0h-2V7h2v10zm4 0h-2v-4h2v4z\"/>\n",
              "    </g>\n",
              "</svg>\n",
              "  </button>\n",
              "\n",
              "<style>\n",
              "  .colab-df-quickchart {\n",
              "      --bg-color: #E8F0FE;\n",
              "      --fill-color: #1967D2;\n",
              "      --hover-bg-color: #E2EBFA;\n",
              "      --hover-fill-color: #174EA6;\n",
              "      --disabled-fill-color: #AAA;\n",
              "      --disabled-bg-color: #DDD;\n",
              "  }\n",
              "\n",
              "  [theme=dark] .colab-df-quickchart {\n",
              "      --bg-color: #3B4455;\n",
              "      --fill-color: #D2E3FC;\n",
              "      --hover-bg-color: #434B5C;\n",
              "      --hover-fill-color: #FFFFFF;\n",
              "      --disabled-bg-color: #3B4455;\n",
              "      --disabled-fill-color: #666;\n",
              "  }\n",
              "\n",
              "  .colab-df-quickchart {\n",
              "    background-color: var(--bg-color);\n",
              "    border: none;\n",
              "    border-radius: 50%;\n",
              "    cursor: pointer;\n",
              "    display: none;\n",
              "    fill: var(--fill-color);\n",
              "    height: 32px;\n",
              "    padding: 0;\n",
              "    width: 32px;\n",
              "  }\n",
              "\n",
              "  .colab-df-quickchart:hover {\n",
              "    background-color: var(--hover-bg-color);\n",
              "    box-shadow: 0 1px 2px rgba(60, 64, 67, 0.3), 0 1px 3px 1px rgba(60, 64, 67, 0.15);\n",
              "    fill: var(--button-hover-fill-color);\n",
              "  }\n",
              "\n",
              "  .colab-df-quickchart-complete:disabled,\n",
              "  .colab-df-quickchart-complete:disabled:hover {\n",
              "    background-color: var(--disabled-bg-color);\n",
              "    fill: var(--disabled-fill-color);\n",
              "    box-shadow: none;\n",
              "  }\n",
              "\n",
              "  .colab-df-spinner {\n",
              "    border: 2px solid var(--fill-color);\n",
              "    border-color: transparent;\n",
              "    border-bottom-color: var(--fill-color);\n",
              "    animation:\n",
              "      spin 1s steps(1) infinite;\n",
              "  }\n",
              "\n",
              "  @keyframes spin {\n",
              "    0% {\n",
              "      border-color: transparent;\n",
              "      border-bottom-color: var(--fill-color);\n",
              "      border-left-color: var(--fill-color);\n",
              "    }\n",
              "    20% {\n",
              "      border-color: transparent;\n",
              "      border-left-color: var(--fill-color);\n",
              "      border-top-color: var(--fill-color);\n",
              "    }\n",
              "    30% {\n",
              "      border-color: transparent;\n",
              "      border-left-color: var(--fill-color);\n",
              "      border-top-color: var(--fill-color);\n",
              "      border-right-color: var(--fill-color);\n",
              "    }\n",
              "    40% {\n",
              "      border-color: transparent;\n",
              "      border-right-color: var(--fill-color);\n",
              "      border-top-color: var(--fill-color);\n",
              "    }\n",
              "    60% {\n",
              "      border-color: transparent;\n",
              "      border-right-color: var(--fill-color);\n",
              "    }\n",
              "    80% {\n",
              "      border-color: transparent;\n",
              "      border-right-color: var(--fill-color);\n",
              "      border-bottom-color: var(--fill-color);\n",
              "    }\n",
              "    90% {\n",
              "      border-color: transparent;\n",
              "      border-bottom-color: var(--fill-color);\n",
              "    }\n",
              "  }\n",
              "</style>\n",
              "\n",
              "  <script>\n",
              "    async function quickchart(key) {\n",
              "      const quickchartButtonEl =\n",
              "        document.querySelector('#' + key + ' button');\n",
              "      quickchartButtonEl.disabled = true;  // To prevent multiple clicks.\n",
              "      quickchartButtonEl.classList.add('colab-df-spinner');\n",
              "      try {\n",
              "        const charts = await google.colab.kernel.invokeFunction(\n",
              "            'suggestCharts', [key], {});\n",
              "      } catch (error) {\n",
              "        console.error('Error during call to suggestCharts:', error);\n",
              "      }\n",
              "      quickchartButtonEl.classList.remove('colab-df-spinner');\n",
              "      quickchartButtonEl.classList.add('colab-df-quickchart-complete');\n",
              "    }\n",
              "    (() => {\n",
              "      let quickchartButtonEl =\n",
              "        document.querySelector('#df-9d3cfdd4-584a-4519-8190-1c30c8c2a97c button');\n",
              "      quickchartButtonEl.style.display =\n",
              "        google.colab.kernel.accessAllowed ? 'block' : 'none';\n",
              "    })();\n",
              "  </script>\n",
              "</div>\n",
              "\n",
              "    </div>\n",
              "  </div>\n"
            ],
            "text/plain": [
              "   ID RIVER  LOCATION  ERECTED   PURPOSE   LENGTH  LANES CLEAR-G   T-OR-D  \\\n",
              "0  E1     M     3.000     1818   HIGHWAY      NaN  2.000       N  THROUGH   \n",
              "1  E2     A    25.000     1819   HIGHWAY 1037.000  2.000       N  THROUGH   \n",
              "2  E3     A    39.000     1829  AQUEDUCT      NaN  1.000       N  THROUGH   \n",
              "3  E5     A    29.000     1837   HIGHWAY 1000.000  2.000       N  THROUGH   \n",
              "4  E6     M    23.000     1838   HIGHWAY      NaN  2.000       N  THROUGH   \n",
              "\n",
              "  MATERIAL   SPAN REL-L  TYPE  \n",
              "0     WOOD  SHORT     S  WOOD  \n",
              "1     WOOD  SHORT     S  WOOD  \n",
              "2     WOOD    NaN     S  WOOD  \n",
              "3     WOOD  SHORT     S  WOOD  \n",
              "4     WOOD    NaN     S  WOOD  "
            ]
          },
          "metadata": {},
          "output_type": "display_data"
        }
      ],
      "source": [
        "# 読み込み結果の確認\n",
        "display(df.head())"
      ]
    },
    {
      "cell_type": "markdown",
      "metadata": {
        "id": "DTrkv3vXSgzB"
      },
      "source": [
        "### 実習\n",
        "ここから実習がはじまりまます"
      ]
    },
    {
      "cell_type": "markdown",
      "metadata": {
        "id": "eFL8IYWPSuwd"
      },
      "source": [
        "#### データの提示\n",
        "以下のテキストをCHAT-GPTにコピペして、質問してください\n",
        "\n",
        "```\n",
        "次のCSVデータの分析をします。\n",
        "データはデータフレーム変数dfに入っています。\n",
        "これは前提の説明なので、まだ返事は不要です。\n",
        "\n",
        "ID,RIVER,LOCATION,ERECTED,PURPOSE,LENGTH,LANES,CLEAR-G,T-OR-D,MATERIAL,SPAN,REL-L,TYPE\n",
        "E1,M,3.0,1818,HIGHWAY,,2.0,N,THROUGH,WOOD,SHORT,S,WOOD\n",
        "E2,A,25.0,1819,HIGHWAY,1037.0,2.0,N,THROUGH,WOOD,SHORT,S,WOOD\n",
        "E3,A,39.0,1829,AQUEDUCT,,1.0,N,THROUGH,WOOD,,S,WOOD\n",
        "E5,A,29.0,1837,HIGHWAY,1000.0,2.0,N,THROUGH,WOOD,SHORT,S,WOOD\n",
        "E6,M,23.0,1838,HIGHWAY,,2.0,N,THROUGH,WOOD,,S,WOOD\n",
        "E7,A,27.0,1840,HIGHWAY,990.0,2.0,N,THROUGH,WOOD,MEDIUM,S,WOOD\n",
        "E8,A,28.0,1844,AQUEDUCT,1000.0,1.0,N,THROUGH,IRON,SHORT,S,SUSPEN\n",
        "E9,M,3.0,1846,HIGHWAY,1500.0,2.0,N,THROUGH,IRON,SHORT,S,SUSPEN\n",
        "E10,A,39.0,1848,AQUEDUCT,,1.0,N,DECK,WOOD,,S,WOOD\n",
        "(以下略)\n",
        "```"
      ]
    },
    {
      "cell_type": "markdown",
      "metadata": {
        "id": "seEwBN_sTIyl"
      },
      "source": [
        "#### データの解説情報提供1\n",
        "以下のテキストをCHAT-GPTにコピペして、質問してください\n",
        "\n",
        "```\n",
        "このデータは「ピッツバーグ・ブリッジ・データセット」と呼ばれる、アメリカピッツバー市の橋の情報をまとめたものです。\n",
        "以下の解説(Kaggleの解説から取ってきた情報)を含めて今後の分析で活用して下さい。\n",
        "これは前提の説明なので、まだ返事は不要です。\n",
        "\n",
        "id: Bridge's Identifier.\n",
        "\n",
        "river: River of the bridge.\n",
        "{A : Allegheny, M : Monongahela, O : Ohio}\n",
        "\n",
        "location: Bridge's Location. / 1 - 52\n",
        "\n",
        "erected: Bridge's construction year. / 1818 - 1986\n",
        "{CRAFTS: 1818 - 1866, EMERGING: 1870 - 1889,\n",
        "MATURE: 1890 - 1939, MODERN: 1945 - 1986}\n",
        "\n",
        "purpose: Bridge's purpose.\n",
        "{WALK, AQUEDUCT, RR (Railroad), HIGHWAY}\n",
        "\n",
        "length: Bridge's length / 804-4558\n",
        "{SHORT : 804 - 990, MEDIUM : 1000 - 1850, LONG : 2000 - 4558}\n",
        "\n",
        "Lanes: Bridge's lanes / 1, 2, 4 and 6\n",
        "\n",
        "clear-g: Vertical clearance requirement was enforced in the design.\n",
        "{N: Not Enforced, G: Enforced}\n",
        "```"
      ]
    },
    {
      "cell_type": "markdown",
      "metadata": {
        "id": "wVcxCK0U5YFm"
      },
      "source": [
        "#### データの解説情報提供2\n",
        "\n",
        "以下のテキストをCHAT-GPTにコピペして、質問してください\n",
        "\n",
        "```\n",
        "以下もKaggleの解説の続きです。これは前提の説明なので、まだ返事は不要です。\n",
        "\n",
        "B) Design properties\n",
        "t-or-d: The roadway location on the bridge.\n",
        "{THROUGH, DECK}\n",
        "\n",
        "material: Bridge's predominant material.\n",
        "{WOOD, IRON, STEEL}\n",
        "\n",
        "span: Bridge's span.\n",
        "{SHORT, MEDIUM, LONG}\n",
        "\n",
        "rel-l: Relative length of the span to the crossing length.\n",
        "{S: Short, S-F: Short-Full, F: Full}\n",
        "\n",
        "type: Bridge's type.\n",
        "{WOOD, SUSPEN (Suspension),\n",
        "SIMPLE-T (Simple Truss), ARCH,\n",
        "CANTILEV (Cantilever), CONT-T (Continuous Truss)}\n",
        "```"
      ]
    },
    {
      "cell_type": "markdown",
      "metadata": {
        "id": "FNpq-1mG7ZRx"
      },
      "source": [
        "#### 例題1 データ項目理解(概要)\n",
        "\n",
        "以下のテキストをCHAT-GPTにコピペして、質問してください\n",
        "\n",
        "```\n",
        "CSV データの全項目の意味を簡潔に教えて下さい。\n",
        "```"
      ]
    },
    {
      "cell_type": "markdown",
      "metadata": {
        "id": "0BHjku_F73lm"
      },
      "source": [
        "#### 例題2 データ項目理解(詳細)\n",
        "\n",
        "以下のテキストをCHAT-GPTにコピペして、質問してください\n",
        "\n",
        "```\n",
        "CLEAR-Gがなんであるか、詳しく教えて下さい。\n",
        "```\n",
        "\n"
      ]
    },
    {
      "cell_type": "markdown",
      "metadata": {
        "id": "iSQL-lsGceWs"
      },
      "source": [
        "#### 例題3 前処理(欠損値確認)\n",
        "\n",
        "各項目の欠損値を確認するコードをCHAT-GPTに実装させます<br>\n",
        "以下のテキストをCHAT-GPTにコピペして、質問してください\n",
        "\n",
        "```\n",
        "データフレームはdfに読み込み済みです。\n",
        "この前提で、項目ごとの欠損値を確認するコードを実装してください。\n",
        "```"
      ]
    },
    {
      "cell_type": "code",
      "execution_count": null,
      "metadata": {
        "id": "_e9tl7QDcubx"
      },
      "outputs": [],
      "source": [
        "# このセルにCHAT-GPTの生成結果を貼り付けます\n"
      ]
    },
    {
      "cell_type": "markdown",
      "metadata": {
        "id": "YbTjMt9rqnY3"
      },
      "source": [
        "#### 例題4 前処理(欠損値除去)\n",
        "上の結果からMATERIALに2つの欠損値があることがわかりました。<br>\n",
        "CHAT-GPTにこの欠損値を除去するコードを生成させます<br>\n",
        "以下のテキストをCHAT-GPTにコピペして、質問してください\n",
        "\n",
        "```\n",
        "データフレームは変数dfに読み込み済みです。\n",
        "この前提で「MATERIAL」の欠損値を除去してください。除去はdropna関数を用いて行ごと削除します。\n",
        "整形後の結果を改めてdfに代入し、結果の先頭5行をdispaly関数で表示してください。\n",
        "また、欠損値がなくなったことの確認もしてください。\n",
        "以上のことを行うためのPythonコードを実装して下さい。\n",
        "```"
      ]
    },
    {
      "cell_type": "code",
      "execution_count": null,
      "metadata": {
        "id": "NmMO0vu9QYZ_"
      },
      "outputs": [],
      "source": [
        "# このセルに　CHAT-GPTの生成結果を貼り付けます\n"
      ]
    },
    {
      "cell_type": "markdown",
      "metadata": {
        "id": "j0aQ0t9fu1IH"
      },
      "source": [
        "#### 例題5 可視化 (建設年の箱ひげ図)\n",
        "以下のテキストをCHAT-GPTにコピペして、質問してください\n",
        "\n",
        "```\n",
        "「ERECTED」で箱ひげ図を描画して下さい。\n",
        "ライブラリはseabornを利用し、図は「MATERIAL」別にしてください。\n",
        "以上のことを行うためのPythonコードを実装して下さい。\n",
        "```"
      ]
    },
    {
      "cell_type": "code",
      "execution_count": null,
      "metadata": {
        "id": "M34Z5ygHvUBC"
      },
      "outputs": [],
      "source": [
        "# このセルに　CHAT-GPTの生成結果を貼り付けます\n"
      ]
    },
    {
      "cell_type": "markdown",
      "metadata": {
        "id": "bFzPMrPzoB4_"
      },
      "source": [
        "#### 例題6 可視化(散布図の表示)\n",
        "以下のテキストをCHAT-GPTにコピペして、質問してください\n",
        "\n",
        "```\n",
        "「ERECTED」と「LENGTH」で散布図を描画して下さい。\n",
        "描画時に、「MATERIAL」でマーカーは色と形を変えます。\n",
        "マーカーの大きさは大きめにして下さい。\n",
        "以上のことを行うPythonコードを実装して下さい。\n",
        "```"
      ]
    },
    {
      "cell_type": "code",
      "execution_count": null,
      "metadata": {
        "id": "uQA8XkB8sNhD"
      },
      "outputs": [],
      "source": [
        "# このセルに　CHAT-GPTの生成結果を貼り付けます\n"
      ]
    },
    {
      "cell_type": "markdown",
      "metadata": {
        "id": "TjPXIFQYwHZt"
      },
      "source": [
        "#### 例題7 ディスカッション\n",
        "次の課題をCHAT-GPTと相談して考えてみてください<br>\n",
        "\n",
        "\n",
        "```\n",
        "あなたが、ピッツバーク市の橋の改修計画担当者であると想像してください。\n",
        "今までの分析結果を基に、今後、橋の改修計画をどのように進めるべきか、できるだけ具体的な手順を含めて検討してください。\n",
        "```"
      ]
    },
    {
      "cell_type": "markdown",
      "metadata": {
        "id": "VKWhqUfVacAv"
      },
      "source": [
        "```\n",
        "分析結果を元に、橋の修繕計画は木製の橋を重点的に実施することとしました。\n",
        "その場合の具体的な検討手順と特に注意すべき点について教えてください。\n",
        "```"
      ]
    },
    {
      "cell_type": "markdown",
      "metadata": {
        "id": "ZT83MG-cbzbN"
      },
      "source": [
        "```\n",
        "古い橋の場合、歴史的価値に関する考慮は必要ですか。\n",
        "必要な場合、その対策の具体的手順を教えて下さい。\n",
        "```"
      ]
    },
    {
      "cell_type": "code",
      "execution_count": null,
      "metadata": {
        "id": "nZgx3mvswTbZ"
      },
      "outputs": [],
      "source": []
    }
  ],
  "metadata": {
    "colab": {
      "provenance": []
    },
    "kernelspec": {
      "display_name": "Python 3",
      "name": "python3"
    },
    "language_info": {
      "name": "python"
    }
  },
  "nbformat": 4,
  "nbformat_minor": 0
}
